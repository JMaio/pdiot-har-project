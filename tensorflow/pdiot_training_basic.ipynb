{
  "nbformat": 4,
  "nbformat_minor": 0,
  "metadata": {
    "colab": {
      "name": "pdiot-training-basic.ipynb",
      "provenance": [],
      "collapsed_sections": [],
      "authorship_tag": "ABX9TyMhklYHYOtxW5mcpOWZosfO",
      "include_colab_link": true
    },
    "kernelspec": {
      "name": "python3",
      "display_name": "Python 3"
    }
  },
  "cells": [
    {
      "cell_type": "markdown",
      "metadata": {
        "id": "view-in-github",
        "colab_type": "text"
      },
      "source": [
        "<a href=\"https://colab.research.google.com/github/JMaio/pdiot-har-project/blob/main/tensorflow/pdiot_training_basic.ipynb\" target=\"_parent\"><img src=\"https://colab.research.google.com/assets/colab-badge.svg\" alt=\"Open In Colab\"/></a>"
      ]
    },
    {
      "cell_type": "code",
      "metadata": {
        "id": "JlNR1iZYP86p",
        "outputId": "c55982e8-0e56-495f-f43d-0f5ec1ade16f",
        "colab": {
          "base_uri": "https://localhost:8080/",
          "height": 34
        }
      },
      "source": [
        "import pandas as pd\n",
        "import tensorflow as tf\n",
        "import matplotlib.pyplot as plt\n",
        "import numpy as np\n",
        "print(f\"TF version: {tf.__version__}\")\n",
        "\n",
        "%matplotlib notebook"
      ],
      "execution_count": 1,
      "outputs": [
        {
          "output_type": "stream",
          "text": [
            "TF version: 2.3.0\n"
          ],
          "name": "stdout"
        }
      ]
    },
    {
      "cell_type": "code",
      "metadata": {
        "id": "IgEL93h2RCuc"
      },
      "source": [
        "import os\n",
        "from pathlib import Path\n",
        "import re"
      ],
      "execution_count": 2,
      "outputs": []
    },
    {
      "cell_type": "code",
      "metadata": {
        "id": "vegebWaGQKGx",
        "outputId": "2e72f8c5-bd84-4ad2-ef9c-1f183b2f74a3",
        "colab": {
          "base_uri": "https://localhost:8080/",
          "height": 136
        }
      },
      "source": [
        "data_root = Path('.')/'data'\n",
        "!git clone https://github.com/specknet/pdiot-data.git $data_root"
      ],
      "execution_count": 3,
      "outputs": [
        {
          "output_type": "stream",
          "text": [
            "Cloning into 'data'...\n",
            "remote: Enumerating objects: 131, done.\u001b[K\n",
            "remote: Counting objects: 100% (131/131), done.\u001b[K\n",
            "remote: Compressing objects: 100% (127/127), done.\u001b[K\n",
            "remote: Total 1537 (delta 6), reused 129 (delta 4), pack-reused 1406\u001b[K\n",
            "Receiving objects: 100% (1537/1537), 24.69 MiB | 7.31 MiB/s, done.\n",
            "Resolving deltas: 100% (74/74), done.\n"
          ],
          "name": "stdout"
        }
      ]
    },
    {
      "cell_type": "code",
      "metadata": {
        "id": "d9AsPrjtQ_iC",
        "outputId": "d24654ca-44d1-4d7a-c1e4-90cd70fb5a88",
        "colab": {
          "base_uri": "https://localhost:8080/",
          "height": 289
        }
      },
      "source": [
        "target_folder = data_root/'2020'\n",
        "student_pattern = \"s\\d{7}\"\n",
        "\n",
        "files = {}\n",
        "for (dirpath, dirnames, filenames) in os.walk(target_folder):\n",
        "  s_match = re.search(student_pattern, dirpath)\n",
        "  # if regex matches, and files exist\n",
        "  if s_match and filenames:\n",
        "    s = s_match.group()\n",
        "    # print(f\"adding files for {s} (in {dirpath})\")\n",
        "    dir = Path(dirpath)\n",
        "    try: files[s]\n",
        "    except KeyError: files[s] = []\n",
        "    # only accept .csv files\n",
        "    files[s].extend([dir/f for f in filenames if f[-4:] == '.csv'])\n",
        "\n",
        "print(\"File count:\")\n",
        "{k: len(v) for (k, v) in files.items()}"
      ],
      "execution_count": 4,
      "outputs": [
        {
          "output_type": "stream",
          "text": [
            "File count:\n"
          ],
          "name": "stdout"
        },
        {
          "output_type": "execute_result",
          "data": {
            "text/plain": [
              "{'s1616573': 94,\n",
              " 's1621503': 84,\n",
              " 's1642301': 84,\n",
              " 's1655560': 78,\n",
              " 's1660711': 36,\n",
              " 's1701688': 84,\n",
              " 's1704037': 80,\n",
              " 's1710228': 78,\n",
              " 's1711507': 97,\n",
              " 's1721039': 81,\n",
              " 's1737472': 78,\n",
              " 's1746788': 84,\n",
              " 's1758009': 78,\n",
              " 's1764751': 20,\n",
              " 's2017768': 8}"
            ]
          },
          "metadata": {
            "tags": []
          },
          "execution_count": 4
        }
      ]
    },
    {
      "cell_type": "code",
      "metadata": {
        "id": "PVHSBAEMAAmM"
      },
      "source": [
        "ACTIVITY_CODE_TO_TFCODE_MAPPING = {\n",
        "  0:   0,   # \"Sitting\",\n",
        "  4:   1,   # \"Sitting bent forward\",\n",
        "  5:   2,   # \"Sitting bent backward\",\n",
        "  1:   3,   # \"Walking at normal speed\",\n",
        "  100: 4,   # \"Standing\",\n",
        "  2:   5,   # \"Lying down on back\",\n",
        "  7:   6,   # \"Lying down left\",\n",
        "  6:   7,   # \"Lying down right\",\n",
        "  8:   8,   # \"Lying down on stomach\",\n",
        "  9:   9,   # \"Movement\",\n",
        "  11:  10,  # \"Running\",\n",
        "  12:  11,  # \"Climbing stairs\",\n",
        "  13:  12,  # \"Descending stairs\",\n",
        "  31:  13,  # \"Desk work\"\n",
        "}\n",
        "\n",
        "ACTIVITY_TFCODE_TO_CODE_MAPPING = {\n",
        "  0:  0,   # \"Sitting\",\n",
        "  1:  4,   # \"Sitting bent forward\",\n",
        "  2:  5,   # \"Sitting bent backward\",\n",
        "  3:  1,   # \"Walking at normal speed\",\n",
        "  4:  100, # \"Standing\",\n",
        "  5:  2,   # \"Lying down on back\",\n",
        "  6:  7,   # \"Lying down left\",\n",
        "  7:  6,   # \"Lying down right\",\n",
        "  8:  8,   # \"Lying down on stomach\",\n",
        "  9:  9,   # \"Movement\",\n",
        "  10: 11,  # \"Running\",\n",
        "  11: 12,  # \"Climbing stairs\",\n",
        "  12: 13,  # \"Descending stairs\",\n",
        "  13: 31,  # \"Desk work\"\n",
        "}"
      ],
      "execution_count": 5,
      "outputs": []
    },
    {
      "cell_type": "code",
      "metadata": {
        "id": "pCGU_Y-RTHMg"
      },
      "source": [
        "from dataclasses import dataclass\n",
        "\n",
        "header_size = 5\n",
        "\n",
        "@dataclass\n",
        "class Header:\n",
        "  sensor_pos: str\n",
        "  sensor_side: str\n",
        "  act_type: str\n",
        "  act_code: np.ndarray\n",
        "  subject_id: str\n",
        "  # https://stackoverflow.com/a/54863771/9184658\n",
        "  def __post_init__(self):\n",
        "    self.act_code = int(self.act_code)\n",
        "\n",
        "\n",
        "@dataclass\n",
        "class Activity:\n",
        "  header: Header\n",
        "  df: pd.DataFrame\n",
        "\n",
        "def read_custom_file(filename):\n",
        "  with open(filename) as f:\n",
        "    head = [next(f).rstrip().split('# ')[1] for x in range(header_size)]\n",
        "    header = Header(*[s.split(': ')[1] for s in head])\n",
        "    # for l in head:\n",
        "    #   print(l)\n",
        "    # print(header)\n",
        "\n",
        "    df = pd.read_csv(filename, header=header_size)\n",
        "    return Activity(header, df)"
      ],
      "execution_count": 6,
      "outputs": []
    },
    {
      "cell_type": "code",
      "metadata": {
        "id": "RTV3vwvI1j1X"
      },
      "source": [
        "def plot_respeck_fig(df):\n",
        "  fig = plt.figure(figsize=(10, 8))\n",
        "  plt.plot(df['accel_x'], label=\"accel_x\")\n",
        "  plt.plot(df['accel_y'], label=\"accel_y\")\n",
        "  plt.plot(df['accel_z'], label=\"accel_z\")\n",
        "  plt.legend()\n",
        "  return plt"
      ],
      "execution_count": 7,
      "outputs": []
    },
    {
      "cell_type": "code",
      "metadata": {
        "id": "ZJ67qqC80-hw",
        "outputId": "33db7324-05ce-4ca9-fb63-dffdf3db4560",
        "colab": {
          "base_uri": "https://localhost:8080/",
          "height": 275
        }
      },
      "source": [
        "act = read_custom_file(files[\"s1621503\"][0])\n",
        "act"
      ],
      "execution_count": 8,
      "outputs": [
        {
          "output_type": "execute_result",
          "data": {
            "text/plain": [
              "Activity(header=Header(sensor_pos='Wrist', sensor_side='Right', act_type='Standing', act_code=100, subject_id='s1621503'), df=         timestamp  seq   accel_x   accel_y   accel_z\n",
              "0    1601826599942    0 -1.002930 -0.389954  0.172302\n",
              "1    1601826600020    1 -0.981445 -0.409729  0.156189\n",
              "2    1601826600099    2 -0.997559 -0.392395  0.188416\n",
              "3    1601826600178    3 -1.035645 -0.338440  0.209167\n",
              "4    1601826600257    4 -0.980225 -0.330139  0.184021\n",
              "..             ...  ...       ...       ...       ...\n",
              "411  1601826633381  411 -0.964600 -0.377502  0.111755\n",
              "412  1601826633460  412 -0.967285 -0.386780  0.113708\n",
              "413  1601826633538  413 -0.964844 -0.381409  0.109314\n",
              "414  1601826633617  414 -0.968262 -0.373108  0.111755\n",
              "415  1601826633696  415 -0.964111 -0.379700  0.109314\n",
              "\n",
              "[416 rows x 5 columns])"
            ]
          },
          "metadata": {
            "tags": []
          },
          "execution_count": 8
        }
      ]
    },
    {
      "cell_type": "code",
      "metadata": {
        "id": "M6HLDoy21Pfw",
        "outputId": "74e8a5c7-de73-4cec-ae4d-da9e11cb7604",
        "colab": {
          "base_uri": "https://localhost:8080/",
          "height": 500
        }
      },
      "source": [
        "plot_respeck_fig(act.df)"
      ],
      "execution_count": 9,
      "outputs": [
        {
          "output_type": "execute_result",
          "data": {
            "text/plain": [
              "<module 'matplotlib.pyplot' from '/usr/local/lib/python3.6/dist-packages/matplotlib/pyplot.py'>"
            ]
          },
          "metadata": {
            "tags": []
          },
          "execution_count": 9
        },
        {
          "output_type": "display_data",
          "data": {
            "image/png": "[encoded data removed]",
            "text/plain": [
              "<Figure size 720x576 with 1 Axes>"
            ]
          },
          "metadata": {
            "tags": [],
            "needs_background": "light"
          }
        }
      ]
    },
    {
      "cell_type": "code",
      "metadata": {
        "id": "X5Hvbd1R1rLM"
      },
      "source": [
        "train = read_custom_file(files[\"s1621503\"][0])\n",
        "test  = read_custom_file(files[\"s1616573\"][0])"
      ],
      "execution_count": 10,
      "outputs": []
    },
    {
      "cell_type": "code",
      "metadata": {
        "id": "uaqkcDr67tR4"
      },
      "source": [
        "keys = [\"accel_x\", \"accel_y\", \"accel_z\"]"
      ],
      "execution_count": 11,
      "outputs": []
    },
    {
      "cell_type": "code",
      "metadata": {
        "id": "L8OMxLFh7lfy"
      },
      "source": [
        "train_data = np.array([train.df.iloc[0].get(keys).values])\n",
        "train_code = train.header.act_code\n",
        "test_data = np.array([test.df.iloc[0].get(keys).values])\n",
        "test_code = test.header.act_code"
      ],
      "execution_count": 12,
      "outputs": []
    },
    {
      "cell_type": "code",
      "metadata": {
        "id": "zU6g8Ptj_XQb",
        "outputId": "3e6fe4a9-ae07-4ca4-9b4d-385010ff716e",
        "colab": {
          "base_uri": "https://localhost:8080/",
          "height": 34
        }
      },
      "source": [
        "train_data, train_code"
      ],
      "execution_count": 13,
      "outputs": [
        {
          "output_type": "execute_result",
          "data": {
            "text/plain": [
              "(array([[-1.0029297 , -0.3899536 ,  0.17230225]]), 100)"
            ]
          },
          "metadata": {
            "tags": []
          },
          "execution_count": 13
        }
      ]
    },
    {
      "cell_type": "code",
      "metadata": {
        "id": "UeBZIMPC_F2p",
        "outputId": "32d43fbe-0dbc-472e-f8fd-bba0eeecd934",
        "colab": {
          "base_uri": "https://localhost:8080/",
          "height": 34
        }
      },
      "source": [
        "test_data, test_code"
      ],
      "execution_count": 14,
      "outputs": [
        {
          "output_type": "execute_result",
          "data": {
            "text/plain": [
              "(array([[0.51342773, 0.02947998, 0.77020264]]), 7)"
            ]
          },
          "metadata": {
            "tags": []
          },
          "execution_count": 14
        }
      ]
    },
    {
      "cell_type": "code",
      "metadata": {
        "id": "EBV4hbG92-KI",
        "outputId": "6803ece3-e3cf-4693-8ce3-8d3c2cbc5a74",
        "colab": {
          "base_uri": "https://localhost:8080/",
          "height": 51
        }
      },
      "source": [
        "model = tf.keras.models.Sequential([\n",
        "  # tf.keras.layers.Flatten(input_shape=(28, 28)),\n",
        "  tf.keras.layers.Dense(128, activation='relu'),\n",
        "  # tf.keras.layers.Dropout(0.2),\n",
        "  tf.keras.layers.Dense(14, activation='softmax')\n",
        "])\n",
        "\n",
        "model.compile(optimizer='adam',\n",
        "              loss='sparse_categorical_crossentropy',\n",
        "              metrics=['accuracy'])\n",
        "\n",
        "model.fit(train_data, np.array([ACTIVITY_CODE_TO_TFCODE_MAPPING[train_code]]), epochs=1)"
      ],
      "execution_count": 15,
      "outputs": [
        {
          "output_type": "stream",
          "text": [
            "1/1 [==============================] - 0s 1ms/step - loss: 2.3982 - accuracy: 1.0000\n"
          ],
          "name": "stdout"
        },
        {
          "output_type": "execute_result",
          "data": {
            "text/plain": [
              "<tensorflow.python.keras.callbacks.History at 0x7fa3e3bd75f8>"
            ]
          },
          "metadata": {
            "tags": []
          },
          "execution_count": 15
        }
      ]
    },
    {
      "cell_type": "code",
      "metadata": {
        "id": "toOjJ4iDCWhB",
        "outputId": "d1691540-e80e-4c34-88d2-0103a322a6c5",
        "colab": {
          "base_uri": "https://localhost:8080/",
          "height": 34
        }
      },
      "source": [
        "np.argmax(model.predict(test_data), axis=-1)"
      ],
      "execution_count": 16,
      "outputs": [
        {
          "output_type": "execute_result",
          "data": {
            "text/plain": [
              "array([2])"
            ]
          },
          "metadata": {
            "tags": []
          },
          "execution_count": 16
        }
      ]
    },
    {
      "cell_type": "code",
      "metadata": {
        "id": "aaESPPxy6oAS",
        "outputId": "e42ae00a-59bf-4d17-dc20-627d5b8d9e6c",
        "colab": {
          "base_uri": "https://localhost:8080/",
          "height": 51
        }
      },
      "source": [
        "model.evaluate(test_data, np.array([ACTIVITY_CODE_TO_TFCODE_MAPPING[test_code]]))"
      ],
      "execution_count": 17,
      "outputs": [
        {
          "output_type": "stream",
          "text": [
            "1/1 [==============================] - 0s 1ms/step - loss: 2.6751 - accuracy: 0.0000e+00\n"
          ],
          "name": "stdout"
        },
        {
          "output_type": "execute_result",
          "data": {
            "text/plain": [
              "[2.6750802993774414, 0.0]"
            ]
          },
          "metadata": {
            "tags": []
          },
          "execution_count": 17
        }
      ]
    },
    {
      "cell_type": "code",
      "metadata": {
        "id": "84Khdt63-teU",
        "outputId": "472186b9-55e1-41e9-b604-c6eb308ff21e",
        "colab": {
          "base_uri": "https://localhost:8080/",
          "height": 156
        }
      },
      "source": [
        "# https://www.tensorflow.org/lite/convert/index#convert_a_keras_model_\n",
        "# (to generate a SavedModel) tf.saved_model.save(model, \"saved_model_keras_dir\")\n",
        "\n",
        "# Convert the model.\n",
        "converter = tf.lite.TFLiteConverter.from_keras_model(model)\n",
        "tflite_model = converter.convert()\n",
        "\n",
        "# Save the model.\n",
        "with open('model.tflite', 'wb') as f:\n",
        "  f.write(tflite_model)"
      ],
      "execution_count": 18,
      "outputs": [
        {
          "output_type": "stream",
          "text": [
            "WARNING:tensorflow:From /usr/local/lib/python3.6/dist-packages/tensorflow/python/training/tracking/tracking.py:111: Model.state_updates (from tensorflow.python.keras.engine.training) is deprecated and will be removed in a future version.\n",
            "Instructions for updating:\n",
            "This property should not be used in TensorFlow 2.0, as updates are applied automatically.\n",
            "WARNING:tensorflow:From /usr/local/lib/python3.6/dist-packages/tensorflow/python/training/tracking/tracking.py:111: Layer.updates (from tensorflow.python.keras.engine.base_layer) is deprecated and will be removed in a future version.\n",
            "Instructions for updating:\n",
            "This property should not be used in TensorFlow 2.0, as updates are applied automatically.\n",
            "INFO:tensorflow:Assets written to: /tmp/tmpn1cmbyvv/assets\n"
          ],
          "name": "stdout"
        }
      ]
    }
  ]
}